{
 "cells": [
  {
   "cell_type": "code",
   "execution_count": 1,
   "id": "32c41f41-0223-4364-9bdd-fa34283a7d8b",
   "metadata": {},
   "outputs": [],
   "source": [
    "# Core Libraries\n",
    "import pandas as pd\n",
    "import numpy as np\n",
    "import matplotlib.pyplot as plt\n",
    "import seaborn as sns\n",
    "from datetime import datetime, timedelta\n",
    "from scipy import stats\n",
    "from scipy.stats import randint, uniform"
   ]
  },
  {
   "cell_type": "code",
   "execution_count": 2,
   "id": "f82c2535-3a61-48cc-a92a-3b2370fcd4c4",
   "metadata": {},
   "outputs": [],
   "source": [
    "from sklearn.cluster import KMeans"
   ]
  },
  {
   "cell_type": "markdown",
   "id": "30761413-8ace-4760-ba66-c8bf606bfe99",
   "metadata": {},
   "source": [
    "## IMPORT & EXPLORE"
   ]
  },
  {
   "cell_type": "markdown",
   "id": "6d90d070-a0b3-4f42-9552-a823b98d54b7",
   "metadata": {
    "jp-MarkdownHeadingCollapsed": true
   },
   "source": [
    "#### FUNCTIONS"
   ]
  },
  {
   "cell_type": "code",
   "execution_count": 12,
   "id": "dcb9b3f4-6967-45dc-ab29-00d6d6c60af1",
   "metadata": {},
   "outputs": [],
   "source": [
    "from kneed import KneeLocator\n",
    "\n",
    "def find_elbow_from_results(clustering_results, plot=True):\n",
    "    k_values = [item['k'] for item in clustering_results]\n",
    "    inertias = [item['inertia'] for item in clustering_results]\n",
    "\n",
    "    knee = KneeLocator(k_values, inertias, curve=\"convex\", direction=\"decreasing\")\n",
    "    elbow_k = knee.elbow\n",
    "\n",
    "    if plot:\n",
    "        plt.figure(figsize=(8, 5))\n",
    "        plt.plot(k_values, inertias, marker='o')\n",
    "        if elbow_k is not None:\n",
    "            plt.axvline(elbow_k, color='red', linestyle='--', label=f'Elbow at k={elbow_k}')\n",
    "            plt.legend()\n",
    "        plt.title('KMeans Inertia vs. Number of Clusters')\n",
    "        plt.xlabel('Number of clusters (k)')\n",
    "        plt.ylabel('Inertia')\n",
    "        plt.grid(True)\n",
    "        plt.tight_layout()\n",
    "        plt.show()\n",
    "\n",
    "    return elbow_k"
   ]
  },
  {
   "cell_type": "markdown",
   "id": "55a4937c-d9fb-41a4-a7f0-89f7311faa18",
   "metadata": {
    "jp-MarkdownHeadingCollapsed": true
   },
   "source": [
    "#### DATA"
   ]
  },
  {
   "cell_type": "code",
   "execution_count": 20,
   "id": "b4a990b8-4243-4b15-ba86-91ea1eb3ee1f",
   "metadata": {},
   "outputs": [],
   "source": [
    "flip_books_data_embeded = pd.read_csv(r\"C:\\Users\\User\\Desktop\\DATA SCIENCE\\Github\\flip_book\\data\\flip_books_data_embeded.csv.gz\")"
   ]
  },
  {
   "cell_type": "code",
   "execution_count": 4,
   "id": "309b4f0a-1e7b-4f4e-9ce8-8451462a41b4",
   "metadata": {},
   "outputs": [
    {
     "data": {
      "text/plain": [
       "(5400, 800)"
      ]
     },
     "execution_count": 4,
     "metadata": {},
     "output_type": "execute_result"
    }
   ],
   "source": [
    "flip_books_data_embeded.shape"
   ]
  },
  {
   "cell_type": "markdown",
   "id": "0e734839-d1e5-4d9a-9920-c1da11e6c7b4",
   "metadata": {
    "jp-MarkdownHeadingCollapsed": true
   },
   "source": [
    "## CLEAN & PREPARE"
   ]
  },
  {
   "cell_type": "code",
   "execution_count": 21,
   "id": "a4d50d02-b62d-4f43-96b6-65c2f70554cf",
   "metadata": {},
   "outputs": [],
   "source": [
    "flip_books_data_embeded_features = flip_books_data_embeded.select_dtypes(include = ('number'))"
   ]
  },
  {
   "cell_type": "code",
   "execution_count": 8,
   "id": "00809d9a-bf29-468a-8f54-ac1557246fac",
   "metadata": {},
   "outputs": [
    {
     "data": {
      "text/html": [
       "<div>\n",
       "<style scoped>\n",
       "    .dataframe tbody tr th:only-of-type {\n",
       "        vertical-align: middle;\n",
       "    }\n",
       "\n",
       "    .dataframe tbody tr th {\n",
       "        vertical-align: top;\n",
       "    }\n",
       "\n",
       "    .dataframe thead th {\n",
       "        text-align: right;\n",
       "    }\n",
       "</style>\n",
       "<table border=\"1\" class=\"dataframe\">\n",
       "  <thead>\n",
       "    <tr style=\"text-align: right;\">\n",
       "      <th></th>\n",
       "      <th>price_original</th>\n",
       "      <th>discount</th>\n",
       "      <th>reviews_count</th>\n",
       "      <th>publisher_code</th>\n",
       "      <th>binding_code</th>\n",
       "      <th>category_id</th>\n",
       "      <th>img_emb_0</th>\n",
       "      <th>img_emb_1</th>\n",
       "      <th>img_emb_2</th>\n",
       "      <th>img_emb_3</th>\n",
       "      <th>...</th>\n",
       "      <th>txt_emb_758</th>\n",
       "      <th>txt_emb_759</th>\n",
       "      <th>txt_emb_760</th>\n",
       "      <th>txt_emb_761</th>\n",
       "      <th>txt_emb_762</th>\n",
       "      <th>txt_emb_763</th>\n",
       "      <th>txt_emb_764</th>\n",
       "      <th>txt_emb_765</th>\n",
       "      <th>txt_emb_766</th>\n",
       "      <th>txt_emb_767</th>\n",
       "    </tr>\n",
       "  </thead>\n",
       "  <tbody>\n",
       "    <tr>\n",
       "      <th>3810</th>\n",
       "      <td>1068</td>\n",
       "      <td>25</td>\n",
       "      <td>1</td>\n",
       "      <td>30</td>\n",
       "      <td>0</td>\n",
       "      <td>386</td>\n",
       "      <td>0.589406</td>\n",
       "      <td>1.323572</td>\n",
       "      <td>1.118802</td>\n",
       "      <td>0.496043</td>\n",
       "      <td>...</td>\n",
       "      <td>0.030668</td>\n",
       "      <td>0.011042</td>\n",
       "      <td>0.042247</td>\n",
       "      <td>0.002741</td>\n",
       "      <td>0.002766</td>\n",
       "      <td>-0.023784</td>\n",
       "      <td>0.017529</td>\n",
       "      <td>0.019747</td>\n",
       "      <td>0.023054</td>\n",
       "      <td>-0.005170</td>\n",
       "    </tr>\n",
       "    <tr>\n",
       "      <th>2243</th>\n",
       "      <td>4639</td>\n",
       "      <td>30</td>\n",
       "      <td>0</td>\n",
       "      <td>128</td>\n",
       "      <td>1</td>\n",
       "      <td>279</td>\n",
       "      <td>0.663162</td>\n",
       "      <td>1.264546</td>\n",
       "      <td>1.151859</td>\n",
       "      <td>0.634478</td>\n",
       "      <td>...</td>\n",
       "      <td>-0.018861</td>\n",
       "      <td>-0.007651</td>\n",
       "      <td>0.011659</td>\n",
       "      <td>-0.034252</td>\n",
       "      <td>0.023217</td>\n",
       "      <td>-0.069403</td>\n",
       "      <td>0.005199</td>\n",
       "      <td>-0.017578</td>\n",
       "      <td>-0.032380</td>\n",
       "      <td>-0.036112</td>\n",
       "    </tr>\n",
       "    <tr>\n",
       "      <th>3301</th>\n",
       "      <td>4365</td>\n",
       "      <td>20</td>\n",
       "      <td>10</td>\n",
       "      <td>41</td>\n",
       "      <td>1</td>\n",
       "      <td>505</td>\n",
       "      <td>0.563958</td>\n",
       "      <td>1.350820</td>\n",
       "      <td>1.114511</td>\n",
       "      <td>0.387549</td>\n",
       "      <td>...</td>\n",
       "      <td>-0.057099</td>\n",
       "      <td>-0.036081</td>\n",
       "      <td>-0.047174</td>\n",
       "      <td>-0.065124</td>\n",
       "      <td>-0.052148</td>\n",
       "      <td>-0.070839</td>\n",
       "      <td>-0.068221</td>\n",
       "      <td>0.019717</td>\n",
       "      <td>-0.010234</td>\n",
       "      <td>-0.048038</td>\n",
       "    </tr>\n",
       "    <tr>\n",
       "      <th>3104</th>\n",
       "      <td>3494</td>\n",
       "      <td>25</td>\n",
       "      <td>28</td>\n",
       "      <td>80</td>\n",
       "      <td>0</td>\n",
       "      <td>505</td>\n",
       "      <td>0.215646</td>\n",
       "      <td>0.843977</td>\n",
       "      <td>0.683332</td>\n",
       "      <td>0.696179</td>\n",
       "      <td>...</td>\n",
       "      <td>-0.027170</td>\n",
       "      <td>0.000789</td>\n",
       "      <td>-0.077570</td>\n",
       "      <td>-0.039102</td>\n",
       "      <td>-0.051232</td>\n",
       "      <td>-0.007619</td>\n",
       "      <td>-0.038758</td>\n",
       "      <td>-0.050732</td>\n",
       "      <td>-0.036371</td>\n",
       "      <td>-0.040541</td>\n",
       "    </tr>\n",
       "    <tr>\n",
       "      <th>2495</th>\n",
       "      <td>4312</td>\n",
       "      <td>20</td>\n",
       "      <td>1</td>\n",
       "      <td>143</td>\n",
       "      <td>0</td>\n",
       "      <td>142</td>\n",
       "      <td>0.095226</td>\n",
       "      <td>0.499104</td>\n",
       "      <td>0.445171</td>\n",
       "      <td>0.865982</td>\n",
       "      <td>...</td>\n",
       "      <td>0.003286</td>\n",
       "      <td>0.018648</td>\n",
       "      <td>-0.003009</td>\n",
       "      <td>-0.004539</td>\n",
       "      <td>-0.024359</td>\n",
       "      <td>0.052242</td>\n",
       "      <td>0.046206</td>\n",
       "      <td>0.008300</td>\n",
       "      <td>0.037301</td>\n",
       "      <td>-0.040565</td>\n",
       "    </tr>\n",
       "  </tbody>\n",
       "</table>\n",
       "<p>5 rows × 790 columns</p>\n",
       "</div>"
      ],
      "text/plain": [
       "      price_original  discount  reviews_count  publisher_code  binding_code  \\\n",
       "3810            1068        25              1              30             0   \n",
       "2243            4639        30              0             128             1   \n",
       "3301            4365        20             10              41             1   \n",
       "3104            3494        25             28              80             0   \n",
       "2495            4312        20              1             143             0   \n",
       "\n",
       "      category_id  img_emb_0  img_emb_1  img_emb_2  img_emb_3  ...  \\\n",
       "3810          386   0.589406   1.323572   1.118802   0.496043  ...   \n",
       "2243          279   0.663162   1.264546   1.151859   0.634478  ...   \n",
       "3301          505   0.563958   1.350820   1.114511   0.387549  ...   \n",
       "3104          505   0.215646   0.843977   0.683332   0.696179  ...   \n",
       "2495          142   0.095226   0.499104   0.445171   0.865982  ...   \n",
       "\n",
       "      txt_emb_758  txt_emb_759  txt_emb_760  txt_emb_761  txt_emb_762  \\\n",
       "3810     0.030668     0.011042     0.042247     0.002741     0.002766   \n",
       "2243    -0.018861    -0.007651     0.011659    -0.034252     0.023217   \n",
       "3301    -0.057099    -0.036081    -0.047174    -0.065124    -0.052148   \n",
       "3104    -0.027170     0.000789    -0.077570    -0.039102    -0.051232   \n",
       "2495     0.003286     0.018648    -0.003009    -0.004539    -0.024359   \n",
       "\n",
       "      txt_emb_763  txt_emb_764  txt_emb_765  txt_emb_766  txt_emb_767  \n",
       "3810    -0.023784     0.017529     0.019747     0.023054    -0.005170  \n",
       "2243    -0.069403     0.005199    -0.017578    -0.032380    -0.036112  \n",
       "3301    -0.070839    -0.068221     0.019717    -0.010234    -0.048038  \n",
       "3104    -0.007619    -0.038758    -0.050732    -0.036371    -0.040541  \n",
       "2495     0.052242     0.046206     0.008300     0.037301    -0.040565  \n",
       "\n",
       "[5 rows x 790 columns]"
      ]
     },
     "execution_count": 8,
     "metadata": {},
     "output_type": "execute_result"
    }
   ],
   "source": [
    "flip_books_data_embeded_features.sample(5)"
   ]
  },
  {
   "cell_type": "markdown",
   "id": "356805a2-4f79-405f-bd11-eb1b2b86239e",
   "metadata": {
    "jp-MarkdownHeadingCollapsed": true
   },
   "source": [
    "## MODEL BUILD"
   ]
  },
  {
   "cell_type": "code",
   "execution_count": 9,
   "id": "818be31b-138d-4833-90ef-b225fc6648b0",
   "metadata": {},
   "outputs": [],
   "source": [
    "\n",
    "\n",
    "clustering_results = []\n",
    "\n",
    "for k in range( 5, 100, 1 ):\n",
    "\n",
    "    kmeans = KMeans( n_clusters = k, random_state=42 )\n",
    "    kmeans.fit_transform(flip_books_data_embeded_features)\n",
    "\n",
    "    kmeans_inertia = kmeans.inertia_\n",
    "\n",
    "    clustering_results.append( { 'k' : k,\n",
    "                                 'inertia' : kmeans_inertia} )\n",
    "\n"
   ]
  },
  {
   "cell_type": "code",
   "execution_count": 13,
   "id": "9efab740-534b-4f4c-a6ae-57a0b6a3c2c1",
   "metadata": {},
   "outputs": [
    {
     "data": {
      "image/png": "[encoded data removed]",
      "text/plain": [
       "<Figure size 800x500 with 1 Axes>"
      ]
     },
     "metadata": {},
     "output_type": "display_data"
    },
    {
     "name": "stdout",
     "output_type": "stream",
     "text": [
      "Elbow point detected at k = 21\n"
     ]
    }
   ],
   "source": [
    "elbow = find_elbow_from_results(clustering_results)\n",
    "print(f\"Elbow point detected at k = {elbow}\")"
   ]
  },
  {
   "cell_type": "code",
   "execution_count": 14,
   "id": "23569826-1877-48ec-873b-4423eae845e1",
   "metadata": {},
   "outputs": [],
   "source": [
    "flip_book_kmeans21 = KMeans( n_clusters = 21 )"
   ]
  },
  {
   "cell_type": "code",
   "execution_count": 15,
   "id": "ace25b26-0b0c-4c31-bf75-a7921939ec25",
   "metadata": {},
   "outputs": [
    {
     "data": {
      "text/plain": [
       "array([[  606.53191512, 12060.05390238,  3284.16132979, ...,\n",
       "        42250.14843174,  8215.08609676,   259.4959703 ],\n",
       "       [11313.30761337,  1328.28331567,  7460.18497078, ...,\n",
       "        31513.19955802,  7619.21138042, 10566.52439042],\n",
       "       [ 7737.01864685,  4900.86062264,  3885.15141092, ...,\n",
       "        35090.24191115,  5965.64246914,  6990.3855478 ],\n",
       "       ...,\n",
       "       [  285.70449035, 12896.51778336,  4117.33552979, ...,\n",
       "        43087.02851476,  8773.60139686,  1015.57508403],\n",
       "       [ 1324.81174937, 11314.5736279 ,  2536.27290487, ...,\n",
       "        41505.03327525,  7645.5670898 ,   584.53277103],\n",
       "       [ 5553.89719963,  7081.6555722 ,  1702.43389418, ...,\n",
       "        37272.12580239,  5789.44308922,  4807.21419657]])"
      ]
     },
     "execution_count": 15,
     "metadata": {},
     "output_type": "execute_result"
    }
   ],
   "source": [
    "flip_book_kmeans21.fit_transform(flip_books_data_embeded_features)"
   ]
  },
  {
   "cell_type": "code",
   "execution_count": 22,
   "id": "11439888-4902-4a1d-a3f3-28ff4dca9d57",
   "metadata": {},
   "outputs": [],
   "source": [
    "flip_books_data_embeded['kmeans21_cluster'] = flip_book_kmeans21.predict(flip_books_data_embeded_features)"
   ]
  },
  {
   "cell_type": "code",
   "execution_count": 46,
   "id": "2e96cb86-419a-4fdc-8950-2dafac92caa8",
   "metadata": {},
   "outputs": [
    {
     "data": {
      "text/html": [
       "<div>\n",
       "<style scoped>\n",
       "    .dataframe tbody tr th:only-of-type {\n",
       "        vertical-align: middle;\n",
       "    }\n",
       "\n",
       "    .dataframe tbody tr th {\n",
       "        vertical-align: top;\n",
       "    }\n",
       "\n",
       "    .dataframe thead th {\n",
       "        text-align: right;\n",
       "    }\n",
       "</style>\n",
       "<table border=\"1\" class=\"dataframe\">\n",
       "  <thead>\n",
       "    <tr style=\"text-align: right;\">\n",
       "      <th></th>\n",
       "      <th>title</th>\n",
       "      <th>description</th>\n",
       "      <th>windows_image_path</th>\n",
       "      <th>kmeans21_cluster</th>\n",
       "    </tr>\n",
       "  </thead>\n",
       "  <tbody>\n",
       "    <tr>\n",
       "      <th>1685</th>\n",
       "      <td>Русско - казахский терминологический словарь с...</td>\n",
       "      <td>Русско-казахский словарь- справочник по видам ...</td>\n",
       "      <td>C:\\Users\\User\\Desktop\\DATA SCIENCE\\DataSets\\fl...</td>\n",
       "      <td>16</td>\n",
       "    </tr>\n",
       "    <tr>\n",
       "      <th>4954</th>\n",
       "      <td>Академия божественных жен. Разрушение</td>\n",
       "      <td>Я узнала тайну академии. Страшная участь обошл...</td>\n",
       "      <td>C:\\Users\\User\\Desktop\\DATA SCIENCE\\DataSets\\fl...</td>\n",
       "      <td>10</td>\n",
       "    </tr>\n",
       "    <tr>\n",
       "      <th>3583</th>\n",
       "      <td>Без нервов. Воркбук самопомощи</td>\n",
       "      <td>В моей библиотеке есть не только книги, но и ц...</td>\n",
       "      <td>C:\\Users\\User\\Desktop\\DATA SCIENCE\\DataSets\\fl...</td>\n",
       "      <td>8</td>\n",
       "    </tr>\n",
       "    <tr>\n",
       "      <th>4826</th>\n",
       "      <td>Друд, или Человек в чёрном</td>\n",
       "      <td>Неподражаемый. Великолепный. Добрый друг. Сотн...</td>\n",
       "      <td>C:\\Users\\User\\Desktop\\DATA SCIENCE\\DataSets\\fl...</td>\n",
       "      <td>6</td>\n",
       "    </tr>\n",
       "    <tr>\n",
       "      <th>4760</th>\n",
       "      <td>Самое красное яблоко</td>\n",
       "      <td>В садах моей матери растут самые красные яблок...</td>\n",
       "      <td>C:\\Users\\User\\Desktop\\DATA SCIENCE\\DataSets\\fl...</td>\n",
       "      <td>10</td>\n",
       "    </tr>\n",
       "  </tbody>\n",
       "</table>\n",
       "</div>"
      ],
      "text/plain": [
       "                                                  title  \\\n",
       "1685  Русско - казахский терминологический словарь с...   \n",
       "4954              Академия божественных жен. Разрушение   \n",
       "3583                     Без нервов. Воркбук самопомощи   \n",
       "4826                         Друд, или Человек в чёрном   \n",
       "4760                               Самое красное яблоко   \n",
       "\n",
       "                                            description  \\\n",
       "1685  Русско-казахский словарь- справочник по видам ...   \n",
       "4954  Я узнала тайну академии. Страшная участь обошл...   \n",
       "3583  В моей библиотеке есть не только книги, но и ц...   \n",
       "4826  Неподражаемый. Великолепный. Добрый друг. Сотн...   \n",
       "4760  В садах моей матери растут самые красные яблок...   \n",
       "\n",
       "                                     windows_image_path  kmeans21_cluster  \n",
       "1685  C:\\Users\\User\\Desktop\\DATA SCIENCE\\DataSets\\fl...                16  \n",
       "4954  C:\\Users\\User\\Desktop\\DATA SCIENCE\\DataSets\\fl...                10  \n",
       "3583  C:\\Users\\User\\Desktop\\DATA SCIENCE\\DataSets\\fl...                 8  \n",
       "4826  C:\\Users\\User\\Desktop\\DATA SCIENCE\\DataSets\\fl...                 6  \n",
       "4760  C:\\Users\\User\\Desktop\\DATA SCIENCE\\DataSets\\fl...                10  "
      ]
     },
     "execution_count": 46,
     "metadata": {},
     "output_type": "execute_result"
    }
   ],
   "source": [
    "flip_books_data_embeded[['title','description','windows_image_path','kmeans21_cluster']].sample(5)"
   ]
  },
  {
   "cell_type": "markdown",
   "id": "b5654bfc-340f-4e8e-82f3-c6bcb1a2f76b",
   "metadata": {
    "jp-MarkdownHeadingCollapsed": true
   },
   "source": [
    "## SAVE"
   ]
  },
  {
   "cell_type": "code",
   "execution_count": 49,
   "id": "f6dd3990-eb62-4a76-8e36-b44948b7618a",
   "metadata": {},
   "outputs": [],
   "source": [
    "flip_books_data_embeded.to_csv('flip_books_data_embeded_clustered.csv.gz',index = False, compression = 'gzip')"
   ]
  }
 ],
 "metadata": {
  "kernelspec": {
   "display_name": "Python 3 (ipykernel)",
   "language": "python",
   "name": "python3"
  },
  "language_info": {
   "codemirror_mode": {
    "name": "ipython",
    "version": 3
   },
   "file_extension": ".py",
   "mimetype": "text/x-python",
   "name": "python",
   "nbconvert_exporter": "python",
   "pygments_lexer": "ipython3",
   "version": "3.12.7"
  }
 },
 "nbformat": 4,
 "nbformat_minor": 5
}
